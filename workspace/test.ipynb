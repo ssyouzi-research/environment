{
 "cells": [
  {
   "cell_type": "markdown",
   "id": "cd994f26",
   "metadata": {},
   "source": [
    "## Rust"
   ]
  },
  {
   "cell_type": "code",
   "execution_count": null,
   "id": "2702e1fc",
   "metadata": {
    "vscode": {
     "languageId": "shellscript"
    }
   },
   "outputs": [
    {
     "name": "stdout",
     "output_type": "stream",
     "text": [
      "Hello, World\n"
     ]
    }
   ],
   "source": [
    "println!(\"Hello, World\");"
   ]
  },
  {
   "cell_type": "markdown",
   "id": "fc965b05",
   "metadata": {},
   "source": [
    "## JavaScript"
   ]
  },
  {
   "cell_type": "code",
   "execution_count": null,
   "id": "74b739b8",
   "metadata": {
    "vscode": {
     "languageId": "shellscript"
    }
   },
   "outputs": [
    {
     "name": "stdout",
     "output_type": "stream",
     "text": [
      "Hello, World\n"
     ]
    }
   ],
   "source": [
    "console.log(\"Hello, World\");"
   ]
  },
  {
   "cell_type": "markdown",
   "id": "0d78ca35",
   "metadata": {},
   "source": [
    "## Bash"
   ]
  },
  {
   "cell_type": "code",
   "execution_count": 1,
   "id": "7636b978",
   "metadata": {
    "vscode": {
     "languageId": "shellscript"
    }
   },
   "outputs": [
    {
     "name": "stdout",
     "output_type": "stream",
     "text": [
      "Hello, World\n"
     ]
    }
   ],
   "source": [
    "echo \"Hello, World\""
   ]
  }
 ],
 "metadata": {
  "kernelspec": {
   "display_name": "Bash",
   "language": "bash",
   "name": "bash"
  },
  "language_info": {
   "codemirror_mode": "shell",
   "file_extension": ".sh",
   "mimetype": "text/x-sh",
   "name": "bash"
  }
 },
 "nbformat": 4,
 "nbformat_minor": 5
}
